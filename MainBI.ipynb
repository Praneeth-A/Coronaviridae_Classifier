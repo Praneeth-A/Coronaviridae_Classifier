{
 "cells": [
  {
   "cell_type": "code",
   "execution_count": null,
   "metadata": {
    "colab": {
     "base_uri": "https://localhost:8080/",
     "height": 1000
    },
    "executionInfo": {
     "elapsed": 27670,
     "status": "ok",
     "timestamp": 1744647150472,
     "user": {
      "displayName": "eddie",
      "userId": "05655187795988771748"
     },
     "user_tz": -330
    },
    "id": "MW4HCp-l63ae",
    "outputId": "7d67136c-dee4-4154-c7fe-e32a5b4b5d33"
   },
   "outputs": [
    {
     "name": "stdout",
     "output_type": "stream",
     "text": [
      "Collecting jax\n",
      "  Downloading jax-0.5.3-py3-none-any.whl.metadata (22 kB)\n",
      "Collecting jaxlib\n",
      "  Downloading jaxlib-0.5.3-cp311-cp311-manylinux2014_x86_64.whl.metadata (1.2 kB)\n",
      "Collecting ml_dtypes>=0.4.0 (from jax)\n",
      "  Downloading ml_dtypes-0.5.1-cp311-cp311-manylinux_2_17_x86_64.manylinux2014_x86_64.whl.metadata (21 kB)\n",
      "Collecting numpy>=1.25 (from jax)\n",
      "  Downloading numpy-2.2.4-cp311-cp311-manylinux_2_17_x86_64.manylinux2014_x86_64.whl.metadata (62 kB)\n",
      "\u001b[2K     \u001b[90m━━━━━━━━━━━━━━━━━━━━━━━━━━━━━━━━━━━━━━━━\u001b[0m \u001b[32m62.0/62.0 kB\u001b[0m \u001b[31m3.6 MB/s\u001b[0m eta \u001b[36m0:00:00\u001b[0m\n",
      "\u001b[?25hCollecting opt_einsum (from jax)\n",
      "  Downloading opt_einsum-3.4.0-py3-none-any.whl.metadata (6.3 kB)\n",
      "Collecting scipy>=1.11.1 (from jax)\n",
      "  Downloading scipy-1.15.2-cp311-cp311-manylinux_2_17_x86_64.manylinux2014_x86_64.whl.metadata (61 kB)\n",
      "\u001b[2K     \u001b[90m━━━━━━━━━━━━━━━━━━━━━━━━━━━━━━━━━━━━━━━━\u001b[0m \u001b[32m62.0/62.0 kB\u001b[0m \u001b[31m4.4 MB/s\u001b[0m eta \u001b[36m0:00:00\u001b[0m\n",
      "\u001b[?25hDownloading jax-0.5.3-py3-none-any.whl (2.4 MB)\n",
      "\u001b[2K   \u001b[90m━━━━━━━━━━━━━━━━━━━━━━━━━━━━━━━━━━━━━━━━\u001b[0m \u001b[32m2.4/2.4 MB\u001b[0m \u001b[31m52.1 MB/s\u001b[0m eta \u001b[36m0:00:00\u001b[0m\n",
      "\u001b[?25hDownloading jaxlib-0.5.3-cp311-cp311-manylinux2014_x86_64.whl (105.1 MB)\n",
      "\u001b[2K   \u001b[90m━━━━━━━━━━━━━━━━━━━━━━━━━━━━━━━━━━━━━━━━\u001b[0m \u001b[32m105.1/105.1 MB\u001b[0m \u001b[31m8.4 MB/s\u001b[0m eta \u001b[36m0:00:00\u001b[0m\n",
      "\u001b[?25hDownloading ml_dtypes-0.5.1-cp311-cp311-manylinux_2_17_x86_64.manylinux2014_x86_64.whl (4.7 MB)\n",
      "\u001b[2K   \u001b[90m━━━━━━━━━━━━━━━━━━━━━━━━━━━━━━━━━━━━━━━━\u001b[0m \u001b[32m4.7/4.7 MB\u001b[0m \u001b[31m83.5 MB/s\u001b[0m eta \u001b[36m0:00:00\u001b[0m\n",
      "\u001b[?25hDownloading numpy-2.2.4-cp311-cp311-manylinux_2_17_x86_64.manylinux2014_x86_64.whl (16.4 MB)\n",
      "\u001b[2K   \u001b[90m━━━━━━━━━━━━━━━━━━━━━━━━━━━━━━━━━━━━━━━━\u001b[0m \u001b[32m16.4/16.4 MB\u001b[0m \u001b[31m55.9 MB/s\u001b[0m eta \u001b[36m0:00:00\u001b[0m\n",
      "\u001b[?25hDownloading scipy-1.15.2-cp311-cp311-manylinux_2_17_x86_64.manylinux2014_x86_64.whl (37.6 MB)\n",
      "\u001b[2K   \u001b[90m━━━━━━━━━━━━━━━━━━━━━━━━━━━━━━━━━━━━━━━━\u001b[0m \u001b[32m37.6/37.6 MB\u001b[0m \u001b[31m23.2 MB/s\u001b[0m eta \u001b[36m0:00:00\u001b[0m\n",
      "\u001b[?25hDownloading opt_einsum-3.4.0-py3-none-any.whl (71 kB)\n",
      "\u001b[2K   \u001b[90m━━━━━━━━━━━━━━━━━━━━━━━━━━━━━━━━━━━━━━━━\u001b[0m \u001b[32m71.9/71.9 kB\u001b[0m \u001b[31m6.2 MB/s\u001b[0m eta \u001b[36m0:00:00\u001b[0m\n",
      "\u001b[?25hInstalling collected packages: opt_einsum, numpy, scipy, ml_dtypes, jaxlib, jax\n",
      "  Attempting uninstall: opt_einsum\n",
      "    Found existing installation: opt_einsum 3.4.0\n",
      "    Uninstalling opt_einsum-3.4.0:\n",
      "      Successfully uninstalled opt_einsum-3.4.0\n",
      "  Attempting uninstall: numpy\n",
      "    Found existing installation: numpy 2.0.2\n",
      "    Uninstalling numpy-2.0.2:\n",
      "      Successfully uninstalled numpy-2.0.2\n",
      "  Attempting uninstall: scipy\n",
      "    Found existing installation: scipy 1.14.1\n",
      "    Uninstalling scipy-1.14.1:\n",
      "      Successfully uninstalled scipy-1.14.1\n",
      "  Attempting uninstall: ml_dtypes\n",
      "    Found existing installation: ml-dtypes 0.4.1\n",
      "    Uninstalling ml-dtypes-0.4.1:\n",
      "      Successfully uninstalled ml-dtypes-0.4.1\n",
      "  Attempting uninstall: jaxlib\n",
      "    Found existing installation: jaxlib 0.5.1\n",
      "    Uninstalling jaxlib-0.5.1:\n",
      "      Successfully uninstalled jaxlib-0.5.1\n",
      "  Attempting uninstall: jax\n",
      "    Found existing installation: jax 0.5.2\n",
      "    Uninstalling jax-0.5.2:\n",
      "      Successfully uninstalled jax-0.5.2\n",
      "\u001b[31mERROR: pip's dependency resolver does not currently take into account all the packages that are installed. This behaviour is the source of the following dependency conflicts.\n",
      "tensorflow 2.18.0 requires ml-dtypes<0.5.0,>=0.4.0, but you have ml-dtypes 0.5.1 which is incompatible.\n",
      "tensorflow 2.18.0 requires numpy<2.1.0,>=1.26.0, but you have numpy 2.2.4 which is incompatible.\n",
      "numba 0.60.0 requires numpy<2.1,>=1.22, but you have numpy 2.2.4 which is incompatible.\u001b[0m\u001b[31m\n",
      "\u001b[0mSuccessfully installed jax-0.5.3 jaxlib-0.5.3 ml_dtypes-0.5.1 numpy-2.2.4 opt_einsum-3.4.0 scipy-1.15.2\n"
     ]
    },
    {
     "data": {
      "application/vnd.colab-display-data+json": {
       "id": "addad2569743422890701ce5a5751b76",
       "pip_warning": {
        "packages": [
         "jaxlib",
         "ml_dtypes"
        ]
       }
      }
     },
     "metadata": {},
     "output_type": "display_data"
    }
   ],
   "source": [
    "#Run it only if you encounter tensorflow related issues\n",
    "!pip install --upgrade --force-reinstall jax jaxlib\n"
   ]
  },
  {
   "cell_type": "code",
   "execution_count": null,
   "metadata": {
    "colab": {
     "base_uri": "https://localhost:8080/"
    },
    "executionInfo": {
     "elapsed": 4450,
     "status": "ok",
     "timestamp": 1744647451099,
     "user": {
      "displayName": "eddie",
      "userId": "05655187795988771748"
     },
     "user_tz": -330
    },
    "id": "346a3311",
    "outputId": "3933a2b8-5127-4caf-91c7-0be85b946144",
    "scrolled": true
   },
   "outputs": [
    {
     "name": "stdout",
     "output_type": "stream",
     "text": [
      "Requirement already satisfied: scikit-learn in /usr/local/lib/python3.11/dist-packages (1.6.1)\n",
      "Requirement already satisfied: tensorflow in /usr/local/lib/python3.11/dist-packages (2.18.0)\n",
      "Requirement already satisfied: numpy in /usr/local/lib/python3.11/dist-packages (2.0.2)\n",
      "Collecting Bio\n",
      "  Downloading bio-1.7.1-py3-none-any.whl.metadata (5.7 kB)\n",
      "Requirement already satisfied: scipy>=1.6.0 in /usr/local/lib/python3.11/dist-packages (from scikit-learn) (1.14.1)\n",
      "Requirement already satisfied: joblib>=1.2.0 in /usr/local/lib/python3.11/dist-packages (from scikit-learn) (1.4.2)\n",
      "Requirement already satisfied: threadpoolctl>=3.1.0 in /usr/local/lib/python3.11/dist-packages (from scikit-learn) (3.6.0)\n",
      "Requirement already satisfied: absl-py>=1.0.0 in /usr/local/lib/python3.11/dist-packages (from tensorflow) (1.4.0)\n",
      "Requirement already satisfied: astunparse>=1.6.0 in /usr/local/lib/python3.11/dist-packages (from tensorflow) (1.6.3)\n",
      "Requirement already satisfied: flatbuffers>=24.3.25 in /usr/local/lib/python3.11/dist-packages (from tensorflow) (25.2.10)\n",
      "Requirement already satisfied: gast!=0.5.0,!=0.5.1,!=0.5.2,>=0.2.1 in /usr/local/lib/python3.11/dist-packages (from tensorflow) (0.6.0)\n",
      "Requirement already satisfied: google-pasta>=0.1.1 in /usr/local/lib/python3.11/dist-packages (from tensorflow) (0.2.0)\n",
      "Requirement already satisfied: libclang>=13.0.0 in /usr/local/lib/python3.11/dist-packages (from tensorflow) (18.1.1)\n",
      "Requirement already satisfied: opt-einsum>=2.3.2 in /usr/local/lib/python3.11/dist-packages (from tensorflow) (3.4.0)\n",
      "Requirement already satisfied: packaging in /usr/local/lib/python3.11/dist-packages (from tensorflow) (24.2)\n",
      "Requirement already satisfied: protobuf!=4.21.0,!=4.21.1,!=4.21.2,!=4.21.3,!=4.21.4,!=4.21.5,<6.0.0dev,>=3.20.3 in /usr/local/lib/python3.11/dist-packages (from tensorflow) (5.29.4)\n",
      "Requirement already satisfied: requests<3,>=2.21.0 in /usr/local/lib/python3.11/dist-packages (from tensorflow) (2.32.3)\n",
      "Requirement already satisfied: setuptools in /usr/local/lib/python3.11/dist-packages (from tensorflow) (75.2.0)\n",
      "Requirement already satisfied: six>=1.12.0 in /usr/local/lib/python3.11/dist-packages (from tensorflow) (1.17.0)\n",
      "Requirement already satisfied: termcolor>=1.1.0 in /usr/local/lib/python3.11/dist-packages (from tensorflow) (3.0.1)\n",
      "Requirement already satisfied: typing-extensions>=3.6.6 in /usr/local/lib/python3.11/dist-packages (from tensorflow) (4.13.1)\n",
      "Requirement already satisfied: wrapt>=1.11.0 in /usr/local/lib/python3.11/dist-packages (from tensorflow) (1.17.2)\n",
      "Requirement already satisfied: grpcio<2.0,>=1.24.3 in /usr/local/lib/python3.11/dist-packages (from tensorflow) (1.71.0)\n",
      "Requirement already satisfied: tensorboard<2.19,>=2.18 in /usr/local/lib/python3.11/dist-packages (from tensorflow) (2.18.0)\n",
      "Requirement already satisfied: keras>=3.5.0 in /usr/local/lib/python3.11/dist-packages (from tensorflow) (3.8.0)\n",
      "Requirement already satisfied: h5py>=3.11.0 in /usr/local/lib/python3.11/dist-packages (from tensorflow) (3.13.0)\n",
      "Requirement already satisfied: ml-dtypes<0.5.0,>=0.4.0 in /usr/local/lib/python3.11/dist-packages (from tensorflow) (0.4.1)\n",
      "Requirement already satisfied: tensorflow-io-gcs-filesystem>=0.23.1 in /usr/local/lib/python3.11/dist-packages (from tensorflow) (0.37.1)\n",
      "Collecting biopython>=1.80 (from Bio)\n",
      "  Downloading biopython-1.85-cp311-cp311-manylinux_2_17_x86_64.manylinux2014_x86_64.whl.metadata (13 kB)\n",
      "Collecting gprofiler-official (from Bio)\n",
      "  Downloading gprofiler_official-1.0.0-py3-none-any.whl.metadata (11 kB)\n",
      "Collecting mygene (from Bio)\n",
      "  Downloading mygene-3.2.2-py2.py3-none-any.whl.metadata (10 kB)\n",
      "Requirement already satisfied: pandas in /usr/local/lib/python3.11/dist-packages (from Bio) (2.2.2)\n",
      "Requirement already satisfied: pooch in /usr/local/lib/python3.11/dist-packages (from Bio) (1.8.2)\n",
      "Requirement already satisfied: tqdm in /usr/local/lib/python3.11/dist-packages (from Bio) (4.67.1)\n",
      "Requirement already satisfied: wheel<1.0,>=0.23.0 in /usr/local/lib/python3.11/dist-packages (from astunparse>=1.6.0->tensorflow) (0.45.1)\n",
      "Requirement already satisfied: rich in /usr/local/lib/python3.11/dist-packages (from keras>=3.5.0->tensorflow) (13.9.4)\n",
      "Requirement already satisfied: namex in /usr/local/lib/python3.11/dist-packages (from keras>=3.5.0->tensorflow) (0.0.8)\n",
      "Requirement already satisfied: optree in /usr/local/lib/python3.11/dist-packages (from keras>=3.5.0->tensorflow) (0.14.1)\n",
      "Requirement already satisfied: charset-normalizer<4,>=2 in /usr/local/lib/python3.11/dist-packages (from requests<3,>=2.21.0->tensorflow) (3.4.1)\n",
      "Requirement already satisfied: idna<4,>=2.5 in /usr/local/lib/python3.11/dist-packages (from requests<3,>=2.21.0->tensorflow) (3.10)\n",
      "Requirement already satisfied: urllib3<3,>=1.21.1 in /usr/local/lib/python3.11/dist-packages (from requests<3,>=2.21.0->tensorflow) (2.3.0)\n",
      "Requirement already satisfied: certifi>=2017.4.17 in /usr/local/lib/python3.11/dist-packages (from requests<3,>=2.21.0->tensorflow) (2025.1.31)\n",
      "Requirement already satisfied: markdown>=2.6.8 in /usr/local/lib/python3.11/dist-packages (from tensorboard<2.19,>=2.18->tensorflow) (3.7)\n",
      "Requirement already satisfied: tensorboard-data-server<0.8.0,>=0.7.0 in /usr/local/lib/python3.11/dist-packages (from tensorboard<2.19,>=2.18->tensorflow) (0.7.2)\n",
      "Requirement already satisfied: werkzeug>=1.0.1 in /usr/local/lib/python3.11/dist-packages (from tensorboard<2.19,>=2.18->tensorflow) (3.1.3)\n",
      "Collecting biothings-client>=0.2.6 (from mygene->Bio)\n",
      "  Downloading biothings_client-0.4.1-py3-none-any.whl.metadata (10 kB)\n",
      "Requirement already satisfied: python-dateutil>=2.8.2 in /usr/local/lib/python3.11/dist-packages (from pandas->Bio) (2.8.2)\n",
      "Requirement already satisfied: pytz>=2020.1 in /usr/local/lib/python3.11/dist-packages (from pandas->Bio) (2025.2)\n",
      "Requirement already satisfied: tzdata>=2022.7 in /usr/local/lib/python3.11/dist-packages (from pandas->Bio) (2025.2)\n",
      "Requirement already satisfied: platformdirs>=2.5.0 in /usr/local/lib/python3.11/dist-packages (from pooch->Bio) (4.3.7)\n",
      "Requirement already satisfied: httpx>=0.22.0 in /usr/local/lib/python3.11/dist-packages (from biothings-client>=0.2.6->mygene->Bio) (0.28.1)\n",
      "Requirement already satisfied: MarkupSafe>=2.1.1 in /usr/local/lib/python3.11/dist-packages (from werkzeug>=1.0.1->tensorboard<2.19,>=2.18->tensorflow) (3.0.2)\n",
      "Requirement already satisfied: markdown-it-py>=2.2.0 in /usr/local/lib/python3.11/dist-packages (from rich->keras>=3.5.0->tensorflow) (3.0.0)\n",
      "Requirement already satisfied: pygments<3.0.0,>=2.13.0 in /usr/local/lib/python3.11/dist-packages (from rich->keras>=3.5.0->tensorflow) (2.18.0)\n",
      "Requirement already satisfied: anyio in /usr/local/lib/python3.11/dist-packages (from httpx>=0.22.0->biothings-client>=0.2.6->mygene->Bio) (4.9.0)\n",
      "Requirement already satisfied: httpcore==1.* in /usr/local/lib/python3.11/dist-packages (from httpx>=0.22.0->biothings-client>=0.2.6->mygene->Bio) (1.0.7)\n",
      "Requirement already satisfied: h11<0.15,>=0.13 in /usr/local/lib/python3.11/dist-packages (from httpcore==1.*->httpx>=0.22.0->biothings-client>=0.2.6->mygene->Bio) (0.14.0)\n",
      "Requirement already satisfied: mdurl~=0.1 in /usr/local/lib/python3.11/dist-packages (from markdown-it-py>=2.2.0->rich->keras>=3.5.0->tensorflow) (0.1.2)\n",
      "Requirement already satisfied: sniffio>=1.1 in /usr/local/lib/python3.11/dist-packages (from anyio->httpx>=0.22.0->biothings-client>=0.2.6->mygene->Bio) (1.3.1)\n",
      "Downloading bio-1.7.1-py3-none-any.whl (280 kB)\n",
      "\u001b[2K   \u001b[90m━━━━━━━━━━━━━━━━━━━━━━━━━━━━━━━━━━━━━━━━\u001b[0m \u001b[32m281.0/281.0 kB\u001b[0m \u001b[31m10.2 MB/s\u001b[0m eta \u001b[36m0:00:00\u001b[0m\n",
      "\u001b[?25hDownloading biopython-1.85-cp311-cp311-manylinux_2_17_x86_64.manylinux2014_x86_64.whl (3.3 MB)\n",
      "\u001b[2K   \u001b[90m━━━━━━━━━━━━━━━━━━━━━━━━━━━━━━━━━━━━━━━━\u001b[0m \u001b[32m3.3/3.3 MB\u001b[0m \u001b[31m82.7 MB/s\u001b[0m eta \u001b[36m0:00:00\u001b[0m\n",
      "\u001b[?25hDownloading gprofiler_official-1.0.0-py3-none-any.whl (9.3 kB)\n",
      "Downloading mygene-3.2.2-py2.py3-none-any.whl (5.4 kB)\n",
      "Downloading biothings_client-0.4.1-py3-none-any.whl (46 kB)\n",
      "\u001b[2K   \u001b[90m━━━━━━━━━━━━━━━━━━━━━━━━━━━━━━━━━━━━━━━━\u001b[0m \u001b[32m46.7/46.7 kB\u001b[0m \u001b[31m4.1 MB/s\u001b[0m eta \u001b[36m0:00:00\u001b[0m\n",
      "\u001b[?25hInstalling collected packages: biopython, gprofiler-official, biothings-client, mygene, Bio\n",
      "Successfully installed Bio-1.7.1 biopython-1.85 biothings-client-0.4.1 gprofiler-official-1.0.0 mygene-3.2.2\n"
     ]
    }
   ],
   "source": [
    "\n",
    "!pip install scikit-learn tensorflow numpy Bio\n"
   ]
  },
  {
   "cell_type": "code",
   "execution_count": null,
   "metadata": {
    "colab": {
     "base_uri": "https://localhost:8080/"
    },
    "executionInfo": {
     "elapsed": 734046,
     "status": "ok",
     "timestamp": 1743739546773,
     "user": {
      "displayName": "eddie",
      "userId": "05655187795988771748"
     },
     "user_tz": -330
    },
    "id": "46f0d825",
    "outputId": "b538da94-efd6-4638-9c36-0ce7a5f838e2"
   },
   "outputs": [
    {
     "name": "stdout",
     "output_type": "stream",
     "text": [
      "Fetched 271 records for Middle East respiratory syndrome-related coronavirus\n",
      "Fetched 143 records for Human coronavirus NL63\n",
      "Fetched 56 records for Human coronavirus HKU1\n",
      "Fetched 1000 records for SARS-CoV-2\n",
      "Fetched 2 records for  SARS-CoV\n",
      "Fetched 318 records for HCoV-OC43\n",
      "Fetched 110 records for HCoV-229E\n"
     ]
    }
   ],
   "source": [
    "#1---Data Extraction\n",
    "import random\n",
    "import numpy as np\n",
    "import tensorflow as tf\n",
    "from tensorflow.keras.preprocessing.sequence import pad_sequences\n",
    "from tensorflow.keras.models import Sequential\n",
    "from tensorflow.keras.layers import Embedding, Bidirectional, LSTM, Dense, Dropout\n",
    "from Bio import Entrez, SeqIO\n",
    "from sklearn.model_selection import train_test_split\n",
    "from collections import defaultdict\n",
    "\n",
    "# Set your email for NCBI Entrez\n",
    "Entrez.email = \"praneethaluguri@gmail.com\"  # Change this to your email\n",
    "\n",
    "# List of viruses with required number of records\n",
    "virus_list = [    (\"Middle East respiratory syndrome-related coronavirus\",1700), (\"Human coronavirus NL63\", 1300),(\"Human coronavirus HKU1\", 900) ,(\"SARS-CoV-2\", 1000),(\" SARS-CoV\",86),(\"HCoV-OC43\",1957),(\"HCoV-229E\",1000) ]\n",
    "\n",
    "# Label mapping\n",
    "virus_to_label = {virus[0]: idx for idx, virus in enumerate(virus_list)}\n",
    "\n",
    "# Function to fetch NCBI accession numbers\n",
    "def fetch_accession_numbers(virus_name, num_records):\n",
    "    try:\n",
    "        search_query = f'\"{virus_name}\"[Organism] AND \"Homo sapiens\"[Host] AND complete genome[Title]'\n",
    "        handle = Entrez.esearch(db=\"nucleotide\", term=search_query, retmax=num_records)\n",
    "        record = Entrez.read(handle)\n",
    "        handle.close()\n",
    "\n",
    "        accession_numbers = record[\"IdList\"]\n",
    "        print(f\"Fetched {len(accession_numbers)} records for {virus_name}\")\n",
    "        return accession_numbers\n",
    "\n",
    "    except Exception as e:\n",
    "        print(f\"Error fetching data for {virus_name}: {e}\")\n",
    "        time.sleep(5)\n",
    "\n",
    "# Function to fetch genome sequences using accession numbers\n",
    "def fetch_genome_sequence(accession_number):\n",
    "    try:\n",
    "        handle = Entrez.efetch(db=\"nucleotide\", id=accession_number, rettype=\"fasta\", retmode=\"text\")\n",
    "        record = SeqIO.read(handle, \"fasta\")\n",
    "        handle.close()\n",
    "        return str(record.seq)\n",
    "    except Exception as e:\n",
    "        print(f\"Error fetching sequence for {accession_number}: {e}\")\n",
    "        time.sleep(5)\n",
    "\n",
    "# Fetch data\n",
    "accession_dict = defaultdict(list)\n",
    "for virus_name, num_records in virus_list:\n",
    "    accessions = fetch_accession_numbers(virus_name, num_records)\n",
    "    accession_dict[virus_name] = accessions\n",
    "\n",
    "# Convert DNA sequences to numerical encoding\n",
    "def encode_sequence(sequence):\n",
    "    encoding_map = {\"A\": 1, \"C\": 2, \"G\": -1, \"T\": -2}\n",
    "    return [encoding_map.get(base, 0) for base in sequence]  # Default 0 for unknown bases\n",
    "\n",
    "# Fetch sequences & labels\n",
    "sequences = []\n",
    "labels = []\n",
    "for virus_name, accession_numbers in accession_dict.items():\n",
    "      for acc in accession_numbers:\n",
    "        seq = fetch_genome_sequence(acc)\n",
    "        if seq:\n",
    "            sequences.append(encode_sequence(seq))\n",
    "            labels.append(virus_to_label[virus_name])\n",
    "max_length = max(len(seq) for seq in sequences)\n",
    "X = pad_sequences(sequences, maxlen=max_length, padding=\"post\", value=0)\n",
    "y = np.array(labels)\n",
    "\n",
    "# Train-test split\n",
    "X_train, X_test, y_train, y_test = train_test_split(X, y, test_size=0.2, stratify=y, random_state=42)\n",
    "\n",
    "\n",
    "# Padding sequences\n",
    "\n",
    "# Define model\n"
   ]
  },
  {
   "cell_type": "code",
   "execution_count": null,
   "metadata": {
    "colab": {
     "base_uri": "https://localhost:8080/"
    },
    "executionInfo": {
     "elapsed": 3196,
     "status": "ok",
     "timestamp": 1744697170776,
     "user": {
      "displayName": "eddie",
      "userId": "05655187795988771748"
     },
     "user_tz": -330
    },
    "id": "-O-GBEoZKXGC",
    "outputId": "53644dc3-2e10-457c-e01b-3b8a4ef08814"
   },
   "outputs": [
    {
     "name": "stdout",
     "output_type": "stream",
     "text": [
      "Drive already mounted at /content/drive; to attempt to forcibly remount, call drive.mount(\"/content/drive\", force_remount=True).\n"
     ]
    }
   ],
   "source": [
    "##2\n",
    "import numpy as np\n",
    "from google.colab import drive\n",
    "drive.mount('/content/drive')\n",
    "# Save data for Code2\n",
    "# np.savez('/content/drive/MyDrive/dataset.npz', X_train=X_train, y_train=y_train, X_test=X_test, y_test=y_test,max_length=max_length,lenVirusList=len(virus_list))\n",
    "\n",
    "#print(\"✅ Data saved successfully! Ready for Code2.\")\n"
   ]
  },
  {
   "cell_type": "code",
   "execution_count": 11,
   "metadata": {
    "colab": {
     "base_uri": "https://localhost:8080/"
    },
    "executionInfo": {
     "elapsed": 944,
     "status": "ok",
     "timestamp": 1744697178199,
     "user": {
      "displayName": "eddie",
      "userId": "05655187795988771748"
     },
     "user_tz": -330
    },
    "id": "Kladsb-xUp5b",
    "outputId": "91bed68c-5019-4ec6-c634-76db6a86a4ac"
   },
   "outputs": [
    {
     "name": "stdout",
     "output_type": "stream",
     "text": [
      "✅ Data restored successfully!\n"
     ]
    }
   ],
   "source": [
    "###3\n",
    "data = np.load('/content/drive/MyDrive/dataset.npz')\n",
    "\n",
    "X_train, y_train = data['X_train'], data['y_train']\n",
    "X_test, y_test = data['X_test'], data['y_test']\n",
    "max_length,lenVirusList=data['max_length'],data['lenVirusList']\n",
    "print(\"✅ Data restored successfully!\")"
   ]
  },
  {
   "cell_type": "code",
   "execution_count": null,
   "metadata": {
    "colab": {
     "base_uri": "https://localhost:8080/"
    },
    "executionInfo": {
     "elapsed": 764,
     "status": "ok",
     "timestamp": 1744636112592,
     "user": {
      "displayName": "eddie",
      "userId": "05655187795988771748"
     },
     "user_tz": -330
    },
    "id": "Fu44sZ4pV6DV",
    "outputId": "5e468b86-415a-4c2a-82d1-79444b6f3526"
   },
   "outputs": [
    {
     "name": "stdout",
     "output_type": "stream",
     "text": [
      "31104\n"
     ]
    }
   ],
   "source": [
    "print(max_length)"
   ]
  },
  {
   "cell_type": "code",
   "execution_count": 12,
   "metadata": {
    "executionInfo": {
     "elapsed": 397,
     "status": "ok",
     "timestamp": 1744697184051,
     "user": {
      "displayName": "eddie",
      "userId": "05655187795988771748"
     },
     "user_tz": -330
    },
    "id": "x1jOjwWQuvCv"
   },
   "outputs": [],
   "source": [
    "#####4\n",
    "max_length = X_train.shape[1]\n",
    "# print(max_length)\n",
    "import numpy as np\n",
    "lenVirusList = len(np.unique(y_train))\n"
   ]
  },
  {
   "cell_type": "code",
   "execution_count": null,
   "metadata": {
    "colab": {
     "base_uri": "https://localhost:8080/",
     "height": 842
    },
    "executionInfo": {
     "elapsed": 1570489,
     "status": "ok",
     "timestamp": 1744649049981,
     "user": {
      "displayName": "eddie",
      "userId": "05655187795988771748"
     },
     "user_tz": -330
    },
    "id": "Up5t62yDvhil",
    "outputId": "3a262381-fcec-4289-f997-557b27112090"
   },
   "outputs": [
    {
     "name": "stderr",
     "output_type": "stream",
     "text": [
      "/usr/local/lib/python3.11/dist-packages/keras/src/layers/core/embedding.py:90: UserWarning: Argument `input_length` is deprecated. Just remove it.\n",
      "  warnings.warn(\n",
      "/usr/local/lib/python3.11/dist-packages/keras/src/trainers/trainer.py:212: UserWarning: Model doesn't support `jit_compile=True`. Proceeding with `jit_compile=False`.\n",
      "  warnings.warn(\n"
     ]
    },
    {
     "data": {
      "text/html": [
       "<pre style=\"white-space:pre;overflow-x:auto;line-height:normal;font-family:Menlo,'DejaVu Sans Mono',consolas,'Courier New',monospace\"><span style=\"font-weight: bold\">Model: \"sequential\"</span>\n",
       "</pre>\n"
      ],
      "text/plain": [
       "\u001b[1mModel: \"sequential\"\u001b[0m\n"
      ]
     },
     "metadata": {},
     "output_type": "display_data"
    },
    {
     "data": {
      "text/html": [
       "<pre style=\"white-space:pre;overflow-x:auto;line-height:normal;font-family:Menlo,'DejaVu Sans Mono',consolas,'Courier New',monospace\">┏━━━━━━━━━━━━━━━━━━━━━━━━━━━━━━━━━┳━━━━━━━━━━━━━━━━━━━━━━━━┳━━━━━━━━━━━━━━━┓\n",
       "┃<span style=\"font-weight: bold\"> Layer (type)                    </span>┃<span style=\"font-weight: bold\"> Output Shape           </span>┃<span style=\"font-weight: bold\">       Param # </span>┃\n",
       "┡━━━━━━━━━━━━━━━━━━━━━━━━━━━━━━━━━╇━━━━━━━━━━━━━━━━━━━━━━━━╇━━━━━━━━━━━━━━━┩\n",
       "│ embedding (<span style=\"color: #0087ff; text-decoration-color: #0087ff\">Embedding</span>)           │ ?                      │   <span style=\"color: #00af00; text-decoration-color: #00af00\">0</span> (unbuilt) │\n",
       "├─────────────────────────────────┼────────────────────────┼───────────────┤\n",
       "│ bidirectional (<span style=\"color: #0087ff; text-decoration-color: #0087ff\">Bidirectional</span>)   │ ?                      │   <span style=\"color: #00af00; text-decoration-color: #00af00\">0</span> (unbuilt) │\n",
       "├─────────────────────────────────┼────────────────────────┼───────────────┤\n",
       "│ dropout (<span style=\"color: #0087ff; text-decoration-color: #0087ff\">Dropout</span>)               │ ?                      │             <span style=\"color: #00af00; text-decoration-color: #00af00\">0</span> │\n",
       "├─────────────────────────────────┼────────────────────────┼───────────────┤\n",
       "│ bidirectional_1 (<span style=\"color: #0087ff; text-decoration-color: #0087ff\">Bidirectional</span>) │ ?                      │   <span style=\"color: #00af00; text-decoration-color: #00af00\">0</span> (unbuilt) │\n",
       "├─────────────────────────────────┼────────────────────────┼───────────────┤\n",
       "│ dense (<span style=\"color: #0087ff; text-decoration-color: #0087ff\">Dense</span>)                   │ ?                      │   <span style=\"color: #00af00; text-decoration-color: #00af00\">0</span> (unbuilt) │\n",
       "├─────────────────────────────────┼────────────────────────┼───────────────┤\n",
       "│ dropout_1 (<span style=\"color: #0087ff; text-decoration-color: #0087ff\">Dropout</span>)             │ ?                      │             <span style=\"color: #00af00; text-decoration-color: #00af00\">0</span> │\n",
       "├─────────────────────────────────┼────────────────────────┼───────────────┤\n",
       "│ dense_1 (<span style=\"color: #0087ff; text-decoration-color: #0087ff\">Dense</span>)                 │ ?                      │   <span style=\"color: #00af00; text-decoration-color: #00af00\">0</span> (unbuilt) │\n",
       "└─────────────────────────────────┴────────────────────────┴───────────────┘\n",
       "</pre>\n"
      ],
      "text/plain": [
       "┏━━━━━━━━━━━━━━━━━━━━━━━━━━━━━━━━━┳━━━━━━━━━━━━━━━━━━━━━━━━┳━━━━━━━━━━━━━━━┓\n",
       "┃\u001b[1m \u001b[0m\u001b[1mLayer (type)                   \u001b[0m\u001b[1m \u001b[0m┃\u001b[1m \u001b[0m\u001b[1mOutput Shape          \u001b[0m\u001b[1m \u001b[0m┃\u001b[1m \u001b[0m\u001b[1m      Param #\u001b[0m\u001b[1m \u001b[0m┃\n",
       "┡━━━━━━━━━━━━━━━━━━━━━━━━━━━━━━━━━╇━━━━━━━━━━━━━━━━━━━━━━━━╇━━━━━━━━━━━━━━━┩\n",
       "│ embedding (\u001b[38;5;33mEmbedding\u001b[0m)           │ ?                      │   \u001b[38;5;34m0\u001b[0m (unbuilt) │\n",
       "├─────────────────────────────────┼────────────────────────┼───────────────┤\n",
       "│ bidirectional (\u001b[38;5;33mBidirectional\u001b[0m)   │ ?                      │   \u001b[38;5;34m0\u001b[0m (unbuilt) │\n",
       "├─────────────────────────────────┼────────────────────────┼───────────────┤\n",
       "│ dropout (\u001b[38;5;33mDropout\u001b[0m)               │ ?                      │             \u001b[38;5;34m0\u001b[0m │\n",
       "├─────────────────────────────────┼────────────────────────┼───────────────┤\n",
       "│ bidirectional_1 (\u001b[38;5;33mBidirectional\u001b[0m) │ ?                      │   \u001b[38;5;34m0\u001b[0m (unbuilt) │\n",
       "├─────────────────────────────────┼────────────────────────┼───────────────┤\n",
       "│ dense (\u001b[38;5;33mDense\u001b[0m)                   │ ?                      │   \u001b[38;5;34m0\u001b[0m (unbuilt) │\n",
       "├─────────────────────────────────┼────────────────────────┼───────────────┤\n",
       "│ dropout_1 (\u001b[38;5;33mDropout\u001b[0m)             │ ?                      │             \u001b[38;5;34m0\u001b[0m │\n",
       "├─────────────────────────────────┼────────────────────────┼───────────────┤\n",
       "│ dense_1 (\u001b[38;5;33mDense\u001b[0m)                 │ ?                      │   \u001b[38;5;34m0\u001b[0m (unbuilt) │\n",
       "└─────────────────────────────────┴────────────────────────┴───────────────┘\n"
      ]
     },
     "metadata": {},
     "output_type": "display_data"
    },
    {
     "data": {
      "text/html": [
       "<pre style=\"white-space:pre;overflow-x:auto;line-height:normal;font-family:Menlo,'DejaVu Sans Mono',consolas,'Courier New',monospace\"><span style=\"font-weight: bold\"> Total params: </span><span style=\"color: #00af00; text-decoration-color: #00af00\">0</span> (0.00 B)\n",
       "</pre>\n"
      ],
      "text/plain": [
       "\u001b[1m Total params: \u001b[0m\u001b[38;5;34m0\u001b[0m (0.00 B)\n"
      ]
     },
     "metadata": {},
     "output_type": "display_data"
    },
    {
     "data": {
      "text/html": [
       "<pre style=\"white-space:pre;overflow-x:auto;line-height:normal;font-family:Menlo,'DejaVu Sans Mono',consolas,'Courier New',monospace\"><span style=\"font-weight: bold\"> Trainable params: </span><span style=\"color: #00af00; text-decoration-color: #00af00\">0</span> (0.00 B)\n",
       "</pre>\n"
      ],
      "text/plain": [
       "\u001b[1m Trainable params: \u001b[0m\u001b[38;5;34m0\u001b[0m (0.00 B)\n"
      ]
     },
     "metadata": {},
     "output_type": "display_data"
    },
    {
     "data": {
      "text/html": [
       "<pre style=\"white-space:pre;overflow-x:auto;line-height:normal;font-family:Menlo,'DejaVu Sans Mono',consolas,'Courier New',monospace\"><span style=\"font-weight: bold\"> Non-trainable params: </span><span style=\"color: #00af00; text-decoration-color: #00af00\">0</span> (0.00 B)\n",
       "</pre>\n"
      ],
      "text/plain": [
       "\u001b[1m Non-trainable params: \u001b[0m\u001b[38;5;34m0\u001b[0m (0.00 B)\n"
      ]
     },
     "metadata": {},
     "output_type": "display_data"
    },
    {
     "name": "stdout",
     "output_type": "stream",
     "text": [
      "Epoch 1/10\n",
      "\u001b[1m38/38\u001b[0m \u001b[32m━━━━━━━━━━━━━━━━━━━━\u001b[0m\u001b[37m\u001b[0m \u001b[1m138s\u001b[0m 3s/step - accuracy: 0.4949 - loss: 1.5896 - val_accuracy: 0.5296 - val_loss: 1.2459\n",
      "Epoch 2/10\n",
      "\u001b[1m38/38\u001b[0m \u001b[32m━━━━━━━━━━━━━━━━━━━━\u001b[0m\u001b[37m\u001b[0m \u001b[1m150s\u001b[0m 4s/step - accuracy: 0.5546 - loss: 1.2559 - val_accuracy: 0.6711 - val_loss: 0.9667\n",
      "Epoch 3/10\n",
      "\u001b[1m38/38\u001b[0m \u001b[32m━━━━━━━━━━━━━━━━━━━━\u001b[0m\u001b[37m\u001b[0m \u001b[1m147s\u001b[0m 4s/step - accuracy: 0.6393 - loss: 1.0102 - val_accuracy: 0.7237 - val_loss: 0.8039\n",
      "Epoch 4/10\n",
      "\u001b[1m38/38\u001b[0m \u001b[32m━━━━━━━━━━━━━━━━━━━━\u001b[0m\u001b[37m\u001b[0m \u001b[1m199s\u001b[0m 4s/step - accuracy: 0.7883 - loss: 0.6536 - val_accuracy: 0.8618 - val_loss: 0.3969\n",
      "Epoch 5/10\n",
      "\u001b[1m38/38\u001b[0m \u001b[32m━━━━━━━━━━━━━━━━━━━━\u001b[0m\u001b[37m\u001b[0m \u001b[1m193s\u001b[0m 4s/step - accuracy: 0.8536 - loss: 0.4656 - val_accuracy: 0.8651 - val_loss: 0.4556\n",
      "Epoch 6/10\n",
      "\u001b[1m38/38\u001b[0m \u001b[32m━━━━━━━━━━━━━━━━━━━━\u001b[0m\u001b[37m\u001b[0m \u001b[1m145s\u001b[0m 4s/step - accuracy: 0.8756 - loss: 0.4059 - val_accuracy: 0.9145 - val_loss: 0.2982\n",
      "Epoch 7/10\n",
      "\u001b[1m38/38\u001b[0m \u001b[32m━━━━━━━━━━━━━━━━━━━━\u001b[0m\u001b[37m\u001b[0m \u001b[1m146s\u001b[0m 4s/step - accuracy: 0.9262 - loss: 0.2842 - val_accuracy: 0.9638 - val_loss: 0.1886\n",
      "Epoch 8/10\n",
      "\u001b[1m38/38\u001b[0m \u001b[32m━━━━━━━━━━━━━━━━━━━━\u001b[0m\u001b[37m\u001b[0m \u001b[1m135s\u001b[0m 4s/step - accuracy: 0.9146 - loss: 0.2986 - val_accuracy: 0.9572 - val_loss: 0.1969\n",
      "Epoch 9/10\n",
      "\u001b[1m38/38\u001b[0m \u001b[32m━━━━━━━━━━━━━━━━━━━━\u001b[0m\u001b[37m\u001b[0m \u001b[1m142s\u001b[0m 4s/step - accuracy: 0.9449 - loss: 0.2089 - val_accuracy: 0.9309 - val_loss: 0.2630\n",
      "Epoch 10/10\n",
      "\u001b[1m38/38\u001b[0m \u001b[32m━━━━━━━━━━━━━━━━━━━━\u001b[0m\u001b[37m\u001b[0m \u001b[1m142s\u001b[0m 4s/step - accuracy: 0.9581 - loss: 0.1879 - val_accuracy: 0.9737 - val_loss: 0.1087\n"
     ]
    },
    {
     "name": "stderr",
     "output_type": "stream",
     "text": [
      "WARNING:absl:You are saving your model as an HDF5 file via `model.save()` or `keras.saving.save_model(model)`. This file format is considered legacy. We recommend using instead the native Keras format, e.g. `model.save('my_model.keras')` or `keras.saving.save_model(model, 'my_model.keras')`. \n"
     ]
    },
    {
     "name": "stdout",
     "output_type": "stream",
     "text": [
      "\u001b[1m12/12\u001b[0m \u001b[32m━━━━━━━━━━━━━━━━━━━━\u001b[0m\u001b[37m\u001b[0m \u001b[1m16s\u001b[0m 1s/step - accuracy: 0.9839 - loss: 0.1176\n",
      "✅ Test Accuracy: 97.63%\n"
     ]
    }
   ],
   "source": [
    "#####5---Model\n",
    "# Imports\n",
    "import numpy as np\n",
    "import tensorflow as tf\n",
    "from tensorflow.keras import mixed_precision\n",
    "\n",
    "from tensorflow.keras.models import Sequential\n",
    "from tensorflow.keras.layers import Embedding, Bidirectional, LSTM, Dense, Dropout\n",
    "from sklearn.model_selection import train_test_split\n",
    "\n",
    "# Enable mixed precision for T4 GPU\n",
    "policy = mixed_precision.Policy('mixed_float16')\n",
    "mixed_precision.set_global_policy(policy)\n",
    "\n",
    "# 🔸 Ensure max_length and lenVirusList are already defined from loaded data\n",
    "# For example:\n",
    "# max_length = data['max_length'].item()\n",
    "# lenVirusList = data['lenVirusList'].item()\n",
    "\n",
    "# 🔸 Define your BiLSTM model (CuDNN acceleration is auto-handled on GPU)\n",
    "model = Sequential([\n",
    "    Embedding(input_dim=5, output_dim=128, input_length=max_length),\n",
    "\n",
    "    Bidirectional(LSTM(128, return_sequences=True)),  # Automatically uses CuDNN\n",
    "    Dropout(0.3),\n",
    "\n",
    "    Bidirectional(LSTM(64)),\n",
    "    Dense(64, activation='relu'),\n",
    "    Dropout(0.3),\n",
    "\n",
    "    Dense(lenVirusList, activation='softmax', dtype='float32')  # Output stays float32\n",
    "])\n",
    "\n",
    "# Compile model with XLA (JIT) acceleration\n",
    "model.compile(optimizer='adam', loss='sparse_categorical_crossentropy', metrics=['accuracy'], jit_compile=True)\n",
    "\n",
    "# Print model summary\n",
    "model.summary()\n",
    "\n",
    "# Train the model\n",
    "model.fit(X_train, y_train, epochs=10, batch_size=32, validation_split=0.2)\n",
    "model.save('/content/drive/MyDrive/Colab Notebooks/BI/biLSTM_virus_classifier_model.h5')\n",
    "# Evaluate the model\n",
    "test_loss, test_acc = model.evaluate(X_test, y_test)\n",
    "print(f\"✅ Test Accuracy: {test_acc * 100:.2f}%\")\n"
   ]
  },
  {
   "cell_type": "code",
   "execution_count": 18,
   "metadata": {
    "colab": {
     "base_uri": "https://localhost:8080/"
    },
    "executionInfo": {
     "elapsed": 1038,
     "status": "ok",
     "timestamp": 1744697598001,
     "user": {
      "displayName": "eddie",
      "userId": "05655187795988771748"
     },
     "user_tz": -330
    },
    "id": "XUWAChkbB2yH",
    "outputId": "4f787e16-ecec-4e58-8749-f6c15f02d14a"
   },
   "outputs": [
    {
     "name": "stderr",
     "output_type": "stream",
     "text": [
      "WARNING:absl:Compiled the loaded model, but the compiled metrics have yet to be built. `model.compile_metrics` will be empty until you train or evaluate the model.\n"
     ]
    }
   ],
   "source": [
    "###6\n",
    "from tensorflow.keras.models import load_model\n",
    "model = load_model('/content/drive/MyDrive/Colab Notebooks/BI/biLSTM_virus_classifier_model.h5')"
   ]
  },
  {
   "cell_type": "code",
   "execution_count": null,
   "metadata": {
    "colab": {
     "base_uri": "https://localhost:8080/",
     "height": 715
    },
    "executionInfo": {
     "elapsed": 20890,
     "status": "ok",
     "timestamp": 1744649989585,
     "user": {
      "displayName": "eddie",
      "userId": "05655187795988771748"
     },
     "user_tz": -330
    },
    "id": "-9ZnKs3AvOy9",
    "outputId": "5ec56d5e-05ff-4338-d853-ab05405322ac"
   },
   "outputs": [
    {
     "name": "stdout",
     "output_type": "stream",
     "text": [
      "\u001b[1m12/12\u001b[0m \u001b[32m━━━━━━━━━━━━━━━━━━━━\u001b[0m\u001b[37m\u001b[0m \u001b[1m19s\u001b[0m 1s/step\n"
     ]
    },
    {
     "data": {
      "image/png": "[encoded data removed]",
      "text/plain": [
       "<Figure size 640x480 with 2 Axes>"
      ]
     },
     "metadata": {},
     "output_type": "display_data"
    },
    {
     "name": "stdout",
     "output_type": "stream",
     "text": [
      "                                                      precision    recall  f1-score   support\n",
      "\n",
      "Middle East respiratory syndrome-related coronavirus       0.96      0.98      0.97        54\n",
      "                              Human coronavirus NL63       0.88      0.97      0.92        29\n",
      "                              Human coronavirus HKU1       0.89      0.73      0.80        11\n",
      "                                          SARS-CoV-2       1.00      0.99      1.00       200\n",
      "                                           HCoV-OC43       1.00      0.97      0.98        64\n",
      "                                           HCoV-229E       0.91      0.95      0.93        22\n",
      "\n",
      "                                            accuracy                           0.98       380\n",
      "                                           macro avg       0.94      0.93      0.93       380\n",
      "                                        weighted avg       0.98      0.98      0.98       380\n",
      "\n"
     ]
    }
   ],
   "source": [
    "####7---Metrics\n",
    "from sklearn.metrics import classification_report, confusion_matrix\n",
    "import seaborn as sns\n",
    "import matplotlib.pyplot as plt\n",
    "\n",
    "# Predict classes\n",
    "y_pred = model.predict(X_test)\n",
    "y_pred_classes = np.argmax(y_pred, axis=1)\n",
    "\n",
    "# Confusion Matrix\n",
    "cm = confusion_matrix(y_test, y_pred_classes)\n",
    "sns.heatmap(cm, annot=True, fmt=\"d\", cmap=\"Blues\")\n",
    "plt.xlabel(\"Predicted\")\n",
    "plt.ylabel(\"True\")\n",
    "plt.title(\"Confusion Matrix\")\n",
    "plt.show()\n",
    "\n",
    "virus_list = [    (\"Middle East respiratory syndrome-related coronavirus\",1700), (\"Human coronavirus NL63\", 1300),(\"Human coronavirus HKU1\", 900) ,(\"SARS-CoV-2\", 1000),(\"HCoV-OC43\",1957),(\"HCoV-229E\",1000) ]\n",
    "\n",
    "# Label mapping (\" SARS-CoV\",86),\n",
    "virus_to_label = {virus[0]: idx for idx, virus in enumerate(virus_list)}\n",
    "# Classification report (precision, recall, f1)\n",
    "print(classification_report(y_test, y_pred_classes, target_names=virus_to_label.keys()))\n"
   ]
  },
  {
   "cell_type": "code",
   "execution_count": null,
   "metadata": {
    "colab": {
     "base_uri": "https://localhost:8080/"
    },
    "executionInfo": {
     "elapsed": 1399570,
     "status": "ok",
     "timestamp": 1744660061916,
     "user": {
      "displayName": "eddie",
      "userId": "05655187795988771748"
     },
     "user_tz": -330
    },
    "id": "iMCyJ0hcMpkH",
    "outputId": "03a312e5-710c-4a50-b3da-3f816056ef99"
   },
   "outputs": [
    {
     "name": "stdout",
     "output_type": "stream",
     "text": [
      "\u001b[1m12/12\u001b[0m \u001b[32m━━━━━━━━━━━━━━━━━━━━\u001b[0m\u001b[37m\u001b[0m \u001b[1m1394s\u001b[0m 115s/step\n",
      "\n",
      "🔹 Virus Class 0: Top Mutation Positions\n",
      "  Position 0: {np.int32(-2): 6, np.int32(2): 8, np.int32(1): 19, np.int32(-1): 22}\n",
      "  Position 1: {np.int32(-2): 23, np.int32(1): 24, np.int32(2): 3, np.int32(-1): 5}\n",
      "  Position 4: {np.int32(2): 21, np.int32(-1): 9, np.int32(-2): 23, np.int32(1): 2}\n",
      "  Position 6: {np.int32(1): 26, np.int32(-1): 3, np.int32(2): 19, np.int32(-2): 7}\n",
      "  Position 7: {np.int32(-2): 27, np.int32(1): 3, np.int32(-1): 22, np.int32(2): 3}\n",
      "\n",
      "🔹 Virus Class 1: Top Mutation Positions\n",
      "  Position 0: {np.int32(2): 9, np.int32(-2): 7, np.int32(1): 11, np.int32(-1): 5}\n",
      "  Position 1: {np.int32(-2): 12, np.int32(1): 13, np.int32(2): 6, np.int32(-1): 1}\n",
      "  Position 3: {np.int32(1): 8, np.int32(-2): 19, np.int32(2): 4, np.int32(-1): 1}\n",
      "  Position 4: {np.int32(1): 12, np.int32(2): 2, np.int32(-1): 1, np.int32(-2): 17}\n",
      "  Position 5: {np.int32(1): 12, np.int32(2): 3, np.int32(-2): 11, np.int32(-1): 6}\n",
      "\n",
      "🔹 Virus Class 2: Top Mutation Positions\n",
      "  Position 1: {np.int32(1): 3, np.int32(-1): 5, np.int32(0): 1}\n",
      "  Position 3: {np.int32(-2): 4, np.int32(1): 1, np.int32(2): 4}\n",
      "  Position 4: {np.int32(-1): 1, np.int32(2): 3, np.int32(-2): 5}\n",
      "  Position 5: {np.int32(1): 5, np.int32(2): 1, np.int32(-1): 2, np.int32(-2): 1}\n",
      "  Position 6: {np.int32(2): 2, np.int32(-1): 2, np.int32(-2): 4, np.int32(1): 1}\n",
      "\n",
      "🔹 Virus Class 3: Top Mutation Positions\n",
      "  Position 2: {np.int32(2): 54, np.int32(0): 25, np.int32(1): 76, np.int32(-2): 35, np.int32(-1): 9}\n",
      "  Position 3: {np.int32(-1): 3, np.int32(0): 23, np.int32(1): 71, np.int32(2): 26, np.int32(-2): 76}\n",
      "  Position 5: {np.int32(1): 23, np.int32(0): 18, np.int32(2): 81, np.int32(-2): 63, np.int32(-1): 14}\n",
      "  Position 6: {np.int32(2): 32, np.int32(0): 18, np.int32(-2): 91, np.int32(1): 33, np.int32(-1): 25}\n",
      "  Position 7: {np.int32(-2): 26, np.int32(0): 17, np.int32(-1): 73, np.int32(1): 73, np.int32(2): 10}\n",
      "\n",
      "🔹 Virus Class 5: Top Mutation Positions\n",
      "  Position 0: {np.int32(-1): 17, np.int32(2): 11, np.int32(1): 23, np.int32(-2): 11}\n",
      "  Position 1: {np.int32(-2): 35, np.int32(2): 12, np.int32(1): 7, np.int32(-1): 8}\n",
      "  Position 2: {np.int32(-1): 14, np.int32(1): 8, np.int32(-2): 35, np.int32(2): 5}\n",
      "  Position 3: {np.int32(1): 8, np.int32(-2): 10, np.int32(-1): 30, np.int32(2): 14}\n",
      "  Position 4: {np.int32(-1): 14, np.int32(-2): 31, np.int32(2): 9, np.int32(1): 8}\n",
      "\n",
      "🔹 Virus Class 6: Top Mutation Positions\n",
      "  Position 0: {np.int32(1): 9, np.int32(2): 5, np.int32(-2): 8, np.int32(-1): 1}\n",
      "  Position 1: {np.int32(-2): 5, np.int32(2): 12, np.int32(1): 5, np.int32(-1): 1}\n",
      "  Position 2: {np.int32(2): 3, np.int32(-2): 11, np.int32(1): 7, np.int32(-1): 2}\n",
      "  Position 3: {np.int32(-2): 10, np.int32(1): 7, np.int32(-1): 3, np.int32(2): 3}\n",
      "  Position 4: {np.int32(1): 13, np.int32(-2): 7, np.int32(-1): 1, np.int32(2): 2}\n"
     ]
    }
   ],
   "source": [
    "######8.1----Mutation Detection Without Reference Genome (Pattern-Based Inference)\n",
    "\n",
    "from collections import Counter\n",
    "import numpy as np\n",
    "\n",
    "# Predict classes for test data\n",
    "y_pred_probs = model.predict(X_test)\n",
    "y_pred_classes = np.argmax(y_pred_probs, axis=1)\n",
    "\n",
    "X_array = np.array(X_test)\n",
    "classwise_mutations = {}\n",
    "\n",
    "# For each predicted class\n",
    "for virus_class in np.unique(y_pred_classes):\n",
    "    # Get indices of sequences predicted as this class\n",
    "    class_indices = np.where(y_pred_classes == virus_class)[0]\n",
    "    class_seqs = X_array[class_indices]\n",
    "\n",
    "    position_mutations = []\n",
    "\n",
    "    # Analyze column-wise (base position)\n",
    "    for i in range(class_seqs.shape[1]):\n",
    "        col = class_seqs[:, i]\n",
    "        freqs = Counter(col)\n",
    "        if len(freqs) > 1 and max(freqs.values()) < 0.6 * len(col):\n",
    "            position_mutations.append((i, dict(freqs)))\n",
    "\n",
    "    classwise_mutations[virus_class] = position_mutations\n",
    "\n",
    "# Show top 5 mutation-prone positions for each predicted class\n",
    "for cls, mutations in classwise_mutations.items():\n",
    "    print(f\"\\n🔹 Virus Class {cls}: Top Mutation Positions\")\n",
    "    for pos, freqs in mutations[:5]:\n",
    "        print(f\"  Position {pos}: {freqs}\")\n"
   ]
  },
  {
   "cell_type": "code",
   "execution_count": 22,
   "metadata": {
    "colab": {
     "base_uri": "https://localhost:8080/"
    },
    "executionInfo": {
     "elapsed": 24766,
     "status": "ok",
     "timestamp": 1744697747887,
     "user": {
      "displayName": "eddie",
      "userId": "05655187795988771748"
     },
     "user_tz": -330
    },
    "id": "EAk8HkP_67BN",
    "outputId": "3fead8de-d8ff-46c6-982b-4b50319d8b05"
   },
   "outputs": [
    {
     "name": "stdout",
     "output_type": "stream",
     "text": [
      "\u001b[1m12/12\u001b[0m \u001b[32m━━━━━━━━━━━━━━━━━━━━\u001b[0m\u001b[37m\u001b[0m \u001b[1m16s\u001b[0m 1s/step\n",
      "\n",
      "🔹 Virus Class 0: Top Mutation Positions\n",
      "  Position 48: {'G': 21, 'A': 19, 'T': 13, 'C': 2}\n",
      "  Position 76: {'C': 4, 'T': 12, 'G': 18, 'A': 21}\n",
      "  Position 79: {'A': 3, 'T': 13, 'G': 18, 'C': 21}\n",
      "  Position 117: {'G': 9, 'T': 19, 'C': 6, 'A': 21}\n",
      "  Position 119: {'C': 9, 'A': 18, 'G': 7, 'T': 21}\n",
      "\n",
      "🔹 Virus Class 1: Top Mutation Positions\n",
      "  Position 0: {'C': 9, 'T': 7, 'A': 11, 'G': 5}\n",
      "  Position 5: {'A': 12, 'C': 3, 'T': 11, 'G': 6}\n",
      "  Position 7: {'A': 10, 'T': 12, 'C': 4, 'G': 6}\n",
      "  Position 18: {'C': 11, 'G': 5, 'T': 12, 'A': 4}\n",
      "  Position 27: {'G': 6, 'C': 11, 'A': 7, 'T': 8}\n",
      "\n",
      "🔹 Virus Class 2: Top Mutation Positions\n",
      "  Position 7: {'G': 2, 'T': 2, 'C': 3, 'A': 2}\n",
      "  Position 15: {'C': 3, 'G': 3, 'T': 1, 'A': 2}\n",
      "  Position 16: {'G': 2, 'T': 2, 'A': 3, 'C': 2}\n",
      "  Position 23: {'A': 2, 'C': 3, 'G': 3, 'T': 1}\n",
      "  Position 57: {'A': 3, 'G': 3, 'T': 2, 'C': 1}\n",
      "\n",
      "🔹 Virus Class 3: Top Mutation Positions\n",
      "  Position 2: {'C': 54, 'N': 25, 'A': 76, 'T': 35, 'G': 9}\n",
      "  Position 3: {'G': 3, 'N': 23, 'A': 71, 'C': 26, 'T': 76}\n",
      "  Position 7: {'T': 26, 'N': 17, 'G': 73, 'A': 73, 'C': 10}\n",
      "  Position 9: {'T': 39, 'N': 17, 'G': 67, 'A': 56, 'C': 20}\n",
      "  Position 11: {'A': 26, 'N': 14, 'G': 76, 'T': 26, 'C': 57}\n",
      "\n",
      "🔹 Virus Class 5: Top Mutation Positions\n",
      "  Position 0: {'G': 17, 'C': 11, 'A': 23, 'T': 11}\n",
      "  Position 6: {'G': 10, 'A': 24, 'T': 16, 'C': 12}\n",
      "  Position 10: {'T': 16, 'A': 23, 'C': 14, 'G': 9}\n",
      "  Position 49: {'C': 8, 'A': 11, 'G': 22, 'T': 21}\n",
      "  Position 52: {'T': 22, 'C': 24, 'A': 16}\n",
      "\n",
      "🔹 Virus Class 6: Top Mutation Positions\n",
      "  Position 0: {'A': 9, 'C': 5, 'T': 8, 'G': 1}\n",
      "  Position 13: {'C': 6, 'T': 7, 'A': 8, 'G': 2}\n",
      "  Position 15: {'G': 5, 'C': 9, 'A': 5, 'T': 4}\n",
      "  Position 19: {'G': 3, 'C': 7, 'T': 4, 'A': 9}\n",
      "  Position 22: {'A': 9, 'T': 4, 'G': 4, 'C': 6}\n"
     ]
    }
   ],
   "source": [
    "######8.12----Mutation Detection Without Reference Genome (Pattern-Based Inference)\n",
    "\n",
    "from collections import Counter\n",
    "import numpy as np\n",
    "\n",
    "# Predict classes for test data\n",
    "y_pred_probs = model.predict(X_test)\n",
    "y_pred_classes = np.argmax(y_pred_probs, axis=1)\n",
    "\n",
    "X_array = np.array(X_test)\n",
    "classwise_mutations = {}\n",
    "encoding_map = {\"A\": 1, \"C\": 2, \"G\": -1, \"T\": -2}\n",
    "\n",
    "# Reverse the encoding_map to decode base values\n",
    "decode_map = {v: k for k, v in encoding_map.items()}\n",
    "# For each predicted class\n",
    "for virus_class in np.unique(y_pred_classes):\n",
    "    # Get indices of sequences predicted as this class\n",
    "    class_indices = np.where(y_pred_classes == virus_class)[0]\n",
    "    class_seqs = X_array[class_indices]\n",
    "\n",
    "    position_mutations = []\n",
    "\n",
    "    # Analyze column-wise (base position)\n",
    "    for i in range(class_seqs.shape[1]):\n",
    "        col = class_seqs[:, i]\n",
    "        freqs = Counter(col)\n",
    "        if len(freqs) > 1 and max(freqs.values()) < 0.4 * len(col):\n",
    "            decoded_freqs = {decode_map.get(int(k), 'N'): v for k, v in freqs.items()}\n",
    "            position_mutations.append((i, decoded_freqs))\n",
    "            # position_mutations.append((i, dict(freqs)))\n",
    "    classwise_mutations[virus_class] = position_mutations\n",
    "\n",
    "# Show top 5 mutation-prone positions for each predicted class\n",
    "for cls, mutations in classwise_mutations.items():\n",
    "    print(f\"\\n🔹 Virus Class {cls}: Top Mutation Positions\")\n",
    "    for pos, freqs in mutations[:5]:\n",
    "        print(f\"  Position {pos}: {freqs}\")"
   ]
  },
  {
   "cell_type": "code",
   "execution_count": null,
   "metadata": {
    "colab": {
     "base_uri": "https://localhost:8080/"
    },
    "executionInfo": {
     "elapsed": 55,
     "status": "ok",
     "timestamp": 1744660243269,
     "user": {
      "displayName": "eddie",
      "userId": "05655187795988771748"
     },
     "user_tz": -330
    },
    "id": "iKyPCmNNkeUf",
    "outputId": "cc076605-c6ea-4015-ff35-341455981c3e"
   },
   "outputs": [
    {
     "name": "stdout",
     "output_type": "stream",
     "text": [
      "31104\n"
     ]
    }
   ],
   "source": [
    "print((class_seqs.shape[1]))"
   ]
  },
  {
   "cell_type": "code",
   "execution_count": 13,
   "metadata": {
    "colab": {
     "base_uri": "https://localhost:8080/",
     "height": 457
    },
    "executionInfo": {
     "elapsed": 875,
     "status": "ok",
     "timestamp": 1744697216431,
     "user": {
      "displayName": "eddie",
      "userId": "05655187795988771748"
     },
     "user_tz": -330
    },
    "id": "aH_XkcMBl7F5",
    "outputId": "4d85884d-c48b-4be9-a2af-d8a4810053fb"
   },
   "outputs": [
    {
     "name": "stderr",
     "output_type": "stream",
     "text": [
      "/usr/local/lib/python3.11/dist-packages/keras/src/trainers/trainer.py:212: UserWarning: Model doesn't support `jit_compile=True`. Proceeding with `jit_compile=False`.\n",
      "  warnings.warn(\n",
      "WARNING:absl:You are saving your model as an HDF5 file via `model.save()` or `keras.saving.save_model(model)`. This file format is considered legacy. We recommend using instead the native Keras format, e.g. `model.save('my_model.keras')` or `keras.saving.save_model(model, 'my_model.keras')`. \n"
     ]
    },
    {
     "data": {
      "text/html": [
       "<pre style=\"white-space:pre;overflow-x:auto;line-height:normal;font-family:Menlo,'DejaVu Sans Mono',consolas,'Courier New',monospace\"><span style=\"font-weight: bold\">Model: \"functional_1\"</span>\n",
       "</pre>\n"
      ],
      "text/plain": [
       "\u001b[1mModel: \"functional_1\"\u001b[0m\n"
      ]
     },
     "metadata": {},
     "output_type": "display_data"
    },
    {
     "data": {
      "text/html": [
       "<pre style=\"white-space:pre;overflow-x:auto;line-height:normal;font-family:Menlo,'DejaVu Sans Mono',consolas,'Courier New',monospace\">┏━━━━━━━━━━━━━━━━━━━━━━━━━━━━━━━━━┳━━━━━━━━━━━━━━━━━━━━━━━━┳━━━━━━━━━━━━━━━┓\n",
       "┃<span style=\"font-weight: bold\"> Layer (type)                    </span>┃<span style=\"font-weight: bold\"> Output Shape           </span>┃<span style=\"font-weight: bold\">       Param # </span>┃\n",
       "┡━━━━━━━━━━━━━━━━━━━━━━━━━━━━━━━━━╇━━━━━━━━━━━━━━━━━━━━━━━━╇━━━━━━━━━━━━━━━┩\n",
       "│ input_layer_1 (<span style=\"color: #0087ff; text-decoration-color: #0087ff\">InputLayer</span>)      │ (<span style=\"color: #00d7ff; text-decoration-color: #00d7ff\">None</span>, <span style=\"color: #00af00; text-decoration-color: #00af00\">31104</span>)          │             <span style=\"color: #00af00; text-decoration-color: #00af00\">0</span> │\n",
       "├─────────────────────────────────┼────────────────────────┼───────────────┤\n",
       "│ embedding_1 (<span style=\"color: #0087ff; text-decoration-color: #0087ff\">Embedding</span>)         │ (<span style=\"color: #00d7ff; text-decoration-color: #00d7ff\">None</span>, <span style=\"color: #00af00; text-decoration-color: #00af00\">31104</span>, <span style=\"color: #00af00; text-decoration-color: #00af00\">128</span>)     │           <span style=\"color: #00af00; text-decoration-color: #00af00\">640</span> │\n",
       "├─────────────────────────────────┼────────────────────────┼───────────────┤\n",
       "│ bidirectional_2 (<span style=\"color: #0087ff; text-decoration-color: #0087ff\">Bidirectional</span>) │ (<span style=\"color: #00d7ff; text-decoration-color: #00d7ff\">None</span>, <span style=\"color: #00af00; text-decoration-color: #00af00\">31104</span>, <span style=\"color: #00af00; text-decoration-color: #00af00\">256</span>)     │       <span style=\"color: #00af00; text-decoration-color: #00af00\">263,168</span> │\n",
       "├─────────────────────────────────┼────────────────────────┼───────────────┤\n",
       "│ dropout_2 (<span style=\"color: #0087ff; text-decoration-color: #0087ff\">Dropout</span>)             │ (<span style=\"color: #00d7ff; text-decoration-color: #00d7ff\">None</span>, <span style=\"color: #00af00; text-decoration-color: #00af00\">31104</span>, <span style=\"color: #00af00; text-decoration-color: #00af00\">256</span>)     │             <span style=\"color: #00af00; text-decoration-color: #00af00\">0</span> │\n",
       "├─────────────────────────────────┼────────────────────────┼───────────────┤\n",
       "│ bidirectional_3 (<span style=\"color: #0087ff; text-decoration-color: #0087ff\">Bidirectional</span>) │ (<span style=\"color: #00d7ff; text-decoration-color: #00d7ff\">None</span>, <span style=\"color: #00af00; text-decoration-color: #00af00\">128</span>)            │       <span style=\"color: #00af00; text-decoration-color: #00af00\">164,352</span> │\n",
       "├─────────────────────────────────┼────────────────────────┼───────────────┤\n",
       "│ dense_2 (<span style=\"color: #0087ff; text-decoration-color: #0087ff\">Dense</span>)                 │ (<span style=\"color: #00d7ff; text-decoration-color: #00d7ff\">None</span>, <span style=\"color: #00af00; text-decoration-color: #00af00\">64</span>)             │         <span style=\"color: #00af00; text-decoration-color: #00af00\">8,256</span> │\n",
       "├─────────────────────────────────┼────────────────────────┼───────────────┤\n",
       "│ dropout_3 (<span style=\"color: #0087ff; text-decoration-color: #0087ff\">Dropout</span>)             │ (<span style=\"color: #00d7ff; text-decoration-color: #00d7ff\">None</span>, <span style=\"color: #00af00; text-decoration-color: #00af00\">64</span>)             │             <span style=\"color: #00af00; text-decoration-color: #00af00\">0</span> │\n",
       "├─────────────────────────────────┼────────────────────────┼───────────────┤\n",
       "│ dense_3 (<span style=\"color: #0087ff; text-decoration-color: #0087ff\">Dense</span>)                 │ (<span style=\"color: #00d7ff; text-decoration-color: #00d7ff\">None</span>, <span style=\"color: #00af00; text-decoration-color: #00af00\">7</span>)              │           <span style=\"color: #00af00; text-decoration-color: #00af00\">455</span> │\n",
       "└─────────────────────────────────┴────────────────────────┴───────────────┘\n",
       "</pre>\n"
      ],
      "text/plain": [
       "┏━━━━━━━━━━━━━━━━━━━━━━━━━━━━━━━━━┳━━━━━━━━━━━━━━━━━━━━━━━━┳━━━━━━━━━━━━━━━┓\n",
       "┃\u001b[1m \u001b[0m\u001b[1mLayer (type)                   \u001b[0m\u001b[1m \u001b[0m┃\u001b[1m \u001b[0m\u001b[1mOutput Shape          \u001b[0m\u001b[1m \u001b[0m┃\u001b[1m \u001b[0m\u001b[1m      Param #\u001b[0m\u001b[1m \u001b[0m┃\n",
       "┡━━━━━━━━━━━━━━━━━━━━━━━━━━━━━━━━━╇━━━━━━━━━━━━━━━━━━━━━━━━╇━━━━━━━━━━━━━━━┩\n",
       "│ input_layer_1 (\u001b[38;5;33mInputLayer\u001b[0m)      │ (\u001b[38;5;45mNone\u001b[0m, \u001b[38;5;34m31104\u001b[0m)          │             \u001b[38;5;34m0\u001b[0m │\n",
       "├─────────────────────────────────┼────────────────────────┼───────────────┤\n",
       "│ embedding_1 (\u001b[38;5;33mEmbedding\u001b[0m)         │ (\u001b[38;5;45mNone\u001b[0m, \u001b[38;5;34m31104\u001b[0m, \u001b[38;5;34m128\u001b[0m)     │           \u001b[38;5;34m640\u001b[0m │\n",
       "├─────────────────────────────────┼────────────────────────┼───────────────┤\n",
       "│ bidirectional_2 (\u001b[38;5;33mBidirectional\u001b[0m) │ (\u001b[38;5;45mNone\u001b[0m, \u001b[38;5;34m31104\u001b[0m, \u001b[38;5;34m256\u001b[0m)     │       \u001b[38;5;34m263,168\u001b[0m │\n",
       "├─────────────────────────────────┼────────────────────────┼───────────────┤\n",
       "│ dropout_2 (\u001b[38;5;33mDropout\u001b[0m)             │ (\u001b[38;5;45mNone\u001b[0m, \u001b[38;5;34m31104\u001b[0m, \u001b[38;5;34m256\u001b[0m)     │             \u001b[38;5;34m0\u001b[0m │\n",
       "├─────────────────────────────────┼────────────────────────┼───────────────┤\n",
       "│ bidirectional_3 (\u001b[38;5;33mBidirectional\u001b[0m) │ (\u001b[38;5;45mNone\u001b[0m, \u001b[38;5;34m128\u001b[0m)            │       \u001b[38;5;34m164,352\u001b[0m │\n",
       "├─────────────────────────────────┼────────────────────────┼───────────────┤\n",
       "│ dense_2 (\u001b[38;5;33mDense\u001b[0m)                 │ (\u001b[38;5;45mNone\u001b[0m, \u001b[38;5;34m64\u001b[0m)             │         \u001b[38;5;34m8,256\u001b[0m │\n",
       "├─────────────────────────────────┼────────────────────────┼───────────────┤\n",
       "│ dropout_3 (\u001b[38;5;33mDropout\u001b[0m)             │ (\u001b[38;5;45mNone\u001b[0m, \u001b[38;5;34m64\u001b[0m)             │             \u001b[38;5;34m0\u001b[0m │\n",
       "├─────────────────────────────────┼────────────────────────┼───────────────┤\n",
       "│ dense_3 (\u001b[38;5;33mDense\u001b[0m)                 │ (\u001b[38;5;45mNone\u001b[0m, \u001b[38;5;34m7\u001b[0m)              │           \u001b[38;5;34m455\u001b[0m │\n",
       "└─────────────────────────────────┴────────────────────────┴───────────────┘\n"
      ]
     },
     "metadata": {},
     "output_type": "display_data"
    },
    {
     "data": {
      "text/html": [
       "<pre style=\"white-space:pre;overflow-x:auto;line-height:normal;font-family:Menlo,'DejaVu Sans Mono',consolas,'Courier New',monospace\"><span style=\"font-weight: bold\"> Total params: </span><span style=\"color: #00af00; text-decoration-color: #00af00\">436,871</span> (1.67 MB)\n",
       "</pre>\n"
      ],
      "text/plain": [
       "\u001b[1m Total params: \u001b[0m\u001b[38;5;34m436,871\u001b[0m (1.67 MB)\n"
      ]
     },
     "metadata": {},
     "output_type": "display_data"
    },
    {
     "data": {
      "text/html": [
       "<pre style=\"white-space:pre;overflow-x:auto;line-height:normal;font-family:Menlo,'DejaVu Sans Mono',consolas,'Courier New',monospace\"><span style=\"font-weight: bold\"> Trainable params: </span><span style=\"color: #00af00; text-decoration-color: #00af00\">436,871</span> (1.67 MB)\n",
       "</pre>\n"
      ],
      "text/plain": [
       "\u001b[1m Trainable params: \u001b[0m\u001b[38;5;34m436,871\u001b[0m (1.67 MB)\n"
      ]
     },
     "metadata": {},
     "output_type": "display_data"
    },
    {
     "data": {
      "text/html": [
       "<pre style=\"white-space:pre;overflow-x:auto;line-height:normal;font-family:Menlo,'DejaVu Sans Mono',consolas,'Courier New',monospace\"><span style=\"font-weight: bold\"> Non-trainable params: </span><span style=\"color: #00af00; text-decoration-color: #00af00\">0</span> (0.00 B)\n",
       "</pre>\n"
      ],
      "text/plain": [
       "\u001b[1m Non-trainable params: \u001b[0m\u001b[38;5;34m0\u001b[0m (0.00 B)\n"
      ]
     },
     "metadata": {},
     "output_type": "display_data"
    }
   ],
   "source": [
    "#######5.2\n",
    "from tensorflow.keras.layers import Input, Embedding, Bidirectional, LSTM, Dense, Dropout\n",
    "from tensorflow.keras.models import Model\n",
    "\n",
    "# Define input layer\n",
    "inputs = Input(shape=(X_train.shape[1],), dtype='int32')\n",
    "\n",
    "# Embedding and LSTM layers\n",
    "x = Embedding(input_dim=5, output_dim=128)(inputs)\n",
    "x = Bidirectional(LSTM(128, return_sequences=True))(x)\n",
    "x = Dropout(0.3)(x)\n",
    "x = Bidirectional(LSTM(64))(x)\n",
    "x = Dense(64, activation='relu')(x)\n",
    "x = Dropout(0.3)(x)\n",
    "outputs = Dense(len(np.unique(y_train)), activation='softmax')(x)\n",
    "\n",
    "# Build the model\n",
    "model2 = Model(inputs=inputs, outputs=outputs)\n",
    "model2.compile(optimizer='adam', loss='sparse_categorical_crossentropy', metrics=['accuracy'], jit_compile=True)\n",
    "model2.save('/content/drive/MyDrive/Colab Notebooks/BI/biLSTM_virus_classifier_model_2.h5')\n",
    "\n",
    "model2.summary()\n"
   ]
  },
  {
   "cell_type": "code",
   "execution_count": null,
   "metadata": {
    "colab": {
     "base_uri": "https://localhost:8080/"
    },
    "executionInfo": {
     "elapsed": 2977,
     "status": "ok",
     "timestamp": 1744697469053,
     "user": {
      "displayName": "eddie",
      "userId": "05655187795988771748"
     },
     "user_tz": -330
    },
    "id": "o00pJk8KHJuH",
    "outputId": "a160893e-bfc4-4124-8ed2-d805d4ed1eab"
   },
   "outputs": [
    {
     "name": "stdout",
     "output_type": "stream",
     "text": [
      "Top influential positions: [31103 31102     0 31101     1 31100     2     3 31099     4]\n"
     ]
    }
   ],
   "source": [
    "#####9-------Explainability: Why the Model Predicts a Specific Virus\n",
    "\n",
    "# Get the embedding layer\n",
    "embedding_layer = model2.get_layer(index=1)  # Embedding is typically 1st after Input\n",
    "\n",
    "# Create embedding model to extract embedding output\n",
    "embed_model = tf.keras.Model(inputs=model2.input, outputs=embedding_layer.output)\n",
    "\n",
    "# Get the embedded input (float32)\n",
    "embedded_input = embed_model(input_sample)\n",
    "\n",
    "# Enable gradient tracking on embeddings\n",
    "with tf.GradientTape() as tape:\n",
    "    tape.watch(embedded_input)\n",
    "    x = embedded_input\n",
    "    for layer in model2.layers[2:]:  # Skip input & embedding layers\n",
    "        x = layer(x)\n",
    "    predictions = x\n",
    "    predicted_class = tf.argmax(predictions[0])\n",
    "    selected_output = predictions[:, predicted_class]\n",
    "\n",
    "# Compute gradients w.r.t. embeddings\n",
    "grads = tape.gradient(selected_output, embedded_input)\n",
    "grads_val = grads.numpy()\n",
    "\n",
    "# Get most influential positions\n",
    "influential_positions = np.argsort(np.abs(grads_val).sum(axis=2)[0])[::-1][:10]\n",
    "print(\"Top influential positions:\", influential_positions)\n",
    "\n",
    "\n"
   ]
  }
 ],
 "metadata": {
  "accelerator": "GPU",
  "colab": {
   "authorship_tag": "ABX9TyOeXEZIuDmcj2mdmjUgAqDJ",
   "gpuType": "T4",
   "provenance": []
  },
  "kernelspec": {
   "display_name": "Python 3",
   "name": "python3"
  },
  "language_info": {
   "name": "python"
  }
 },
 "nbformat": 4,
 "nbformat_minor": 0
}
